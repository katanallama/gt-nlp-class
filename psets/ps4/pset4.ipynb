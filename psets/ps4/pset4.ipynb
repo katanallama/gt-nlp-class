{
 "cells": [
  {
   "cell_type": "markdown",
   "metadata": {},
   "source": [
    "Problem Set 4: Sequence labeling\n",
    "=====================\n",
    "\n",
    "This project focuses on sequence labeling, in the target domain of Twitter part-of-speech tagging.\n",
    "Part (b) focuses on *discriminative* approaches, mainly averaged perceptron and structured perceptron.\n"
   ]
  },
  {
   "cell_type": "markdown",
   "metadata": {},
   "source": [
    "###Submission guidelines:###\n",
    "\n",
    "Here are some submission guidelines for the problem set submission on t-square. Please try to adhere to them as it makes grading simpler.\n",
    "\n",
    "* Submit these 3 things on tsquare: \n",
    "\n",
    "   * compressed gtnlplib folder containing all your code. Please don't attach all python files separately to t-square. \n",
    "    \n",
    "   * pset4.ipynb to present all your explanation answers and results.\n",
    "    \n",
    "   * There will be multiple response files that will be generated throughout the assignment. 4 for your normal models on dev data and 1 for bake off on test data. Use createSubmission.sh script to compress these files and submit the generated response_files.tar on Tsquare.\n",
    "\n",
    "\n",
    "   * For 'Error Analysis' part write your answers in the notebook only. If you want to point to any code/functions that you have written separately, please point the location of code in the notebook file.\n",
    "\n",
    "* Please don't modify any of the relative paths to data. You can copy the 'data' folder according to the given relatove path in the 'gtnlplib/constants.py' while working through the assignment."
   ]
  },
  {
   "cell_type": "code",
   "execution_count": 1,
   "metadata": {
    "collapsed": false
   },
   "outputs": [
    {
     "name": "stdout",
     "output_type": "stream",
     "text": [
      "Populating the interactive namespace from numpy and matplotlib\n"
     ]
    }
   ],
   "source": [
    "import operator\n",
    "from collections import defaultdict, Counter\n",
    "import matplotlib.pyplot as plt\n",
    "%pylab --no-import-all inline\n",
    "\n",
    "import gtnlplib.preproc\n",
    "import gtnlplib.viterbi\n",
    "import gtnlplib.clf_base\n",
    "import gtnlplib.scorer\n",
    "import gtnlplib.constants\n",
    "import gtnlplib.features\n",
    "import gtnlplib.tagger_base\n",
    "import gtnlplib.avg_perceptron\n",
    "import gtnlplib.str_perceptron\n",
    "import matplotlib.pyplot as plt"
   ]
  },
  {
   "cell_type": "code",
   "execution_count": 2,
   "metadata": {
    "collapsed": false
   },
   "outputs": [
    {
     "data": {
      "text/plain": [
       "<module 'gtnlplib.preproc' from 'gtnlplib/preproc.pyc'>"
      ]
     },
     "execution_count": 2,
     "metadata": {},
     "output_type": "execute_result"
    }
   ],
   "source": [
    "import importlib\n",
    "importlib.reload(gtnlplib.preproc)"
   ]
  },
  {
   "cell_type": "code",
   "execution_count": 3,
   "metadata": {
    "collapsed": true
   },
   "outputs": [],
   "source": [
    "## Define the file names\n",
    "trainfile = gtnlplib.constants.TRAIN_FILE\n",
    "devfile = gtnlplib.constants.DEV_FILE\n",
    "testfile = gtnlplib.constants.TEST_FILE # You do not have this for now\n",
    "offset = gtnlplib.constants.OFFSET"
   ]
  },
  {
   "cell_type": "code",
   "execution_count": 4,
   "metadata": {
    "collapsed": false
   },
   "outputs": [],
   "source": [
    "# for convenience\n",
    "tr_all = []\n",
    "for i,(words,tags) in enumerate(gtnlplib.preproc.conllSeqGenerator(trainfile)):\n",
    "    tr_all.append((words,tags))"
   ]
  },
  {
   "cell_type": "code",
   "execution_count": 5,
   "metadata": {
    "collapsed": false
   },
   "outputs": [
    {
     "name": "stdout",
     "output_type": "stream",
     "text": [
      "set(['!', '#', '$', '&', ',', 'A', '@', 'E', 'D', 'G', 'M', 'L', 'O', 'N', 'P', 'S', 'R', 'U', 'T', 'V', 'Y', 'X', 'Z', '^', '~'])\n"
     ]
    }
   ],
   "source": [
    "## Demo\n",
    "alltags = set()\n",
    "for i,(words, tags) in enumerate(gtnlplib.preproc.conllSeqGenerator(trainfile)):    \n",
    "    for tag in tags:\n",
    "        alltags.add(tag)\n",
    "print(alltags)\n"
   ]
  },
  {
   "cell_type": "markdown",
   "metadata": {},
   "source": [
    "# 1. Classification-based tagging #\n",
    "\n",
    "First, you will perform tagging as classification problem."
   ]
  },
  {
   "cell_type": "markdown",
   "metadata": {},
   "source": [
    "Recall that in structured prediction, we have the feature function decompose:\n",
    "\n",
    "\\begin{align}\n",
    "\\renewcommand{\\vec}[1]{\\mathbf{#1}}\n",
    "\\vec{f}(\\vec{w},\\vec{y}) & = \\sum_m \\vec{f}(\\vec{w},y_m, y_{m-1}, m)\n",
    "\\end{align}\n",
    "\n",
    "You will explicitly define your feature functions in this way -- even for the classification-based tagger, which won't consider $y_{m-1}$. The features themselves are defined as tuples, as in pset 3.\n",
    "\n",
    "Here is a simple example:"
   ]
  },
  {
   "cell_type": "code",
   "execution_count": 6,
   "metadata": {
    "collapsed": true
   },
   "outputs": [],
   "source": [
    "def wordFeatures(words,tag,prev_tag,m):\n",
    "    '''\n",
    "    :param words: a list of words\n",
    "    :type words: list\n",
    "    :param tag: a tag\n",
    "    :type tag: string\n",
    "    :type prev_tag: string\n",
    "    :type m: int\n",
    "    '''\n",
    "    out = {(offset,tag):1}\n",
    "    if m < len(words): #we can have m = M, for the transition to the end state\n",
    "        out[(gtnlplib.constants.EMIT,tag,words[m])]=1\n",
    "    return out"
   ]
  },
  {
   "cell_type": "code",
   "execution_count": 7,
   "metadata": {
    "collapsed": true
   },
   "outputs": [],
   "source": [
    "sent = 'they can can fish'.split()"
   ]
  },
  {
   "cell_type": "code",
   "execution_count": 8,
   "metadata": {
    "collapsed": false
   },
   "outputs": [
    {
     "data": {
      "text/plain": [
       "{('**OFFSET**', 'V'): 1, ('--EMISSION--', 'V', 'they'): 1}"
      ]
     },
     "execution_count": 8,
     "metadata": {},
     "output_type": "execute_result"
    }
   ],
   "source": [
    "wordFeatures(sent,'V','V',0)"
   ]
  },
  {
   "cell_type": "markdown",
   "metadata": {},
   "source": [
    "**Deliverable 1a** (1 point) Complete feature function 'wordCharFeatures' in gtnlplib/features.py, which includes the final character of the current word, and the final character of the preceding word (if $m > 1$) along with above features. The names for these features are defined in gtnlplib.constants."
   ]
  },
  {
   "cell_type": "code",
   "execution_count": 9,
   "metadata": {
    "collapsed": false
   },
   "outputs": [
    {
     "data": {
      "text/plain": [
       "<module 'gtnlplib.features' from 'gtnlplib/features.pyc'>"
      ]
     },
     "execution_count": 9,
     "metadata": {},
     "output_type": "execute_result"
    }
   ],
   "source": [
    "import importlib\n",
    "importlib.reload(gtnlplib.features)"
   ]
  },
  {
   "cell_type": "code",
   "execution_count": 10,
   "metadata": {
    "collapsed": false
   },
   "outputs": [
    {
     "name": "stdout",
     "output_type": "stream",
     "text": [
      "{('--curr-suff--', 'V', 'n'): 1, ('--EMISSION--', 'V', 'can'): 1, ('**OFFSET**', 'V'): 1, ('--prev-suff--', 'V', 'y'): 1}\n",
      "{('--curr-suff--', 'V', 'y'): 1, ('**OFFSET**', 'V'): 1, ('--EMISSION--', 'V', 'they'): 1}\n"
     ]
    }
   ],
   "source": [
    "# sanity check desired output\n",
    "print(gtnlplib.features.wordCharFeatures(sent,'V','V',1))\n",
    "# no prev-suff feature in this one, because m=0\n",
    "print(gtnlplib.features.wordCharFeatures(sent,'V','V',0))"
   ]
  },
  {
   "cell_type": "markdown",
   "metadata": {},
   "source": [
    "Now you will define a classification-based tagger. To get you started, here are some test weights."
   ]
  },
  {
   "cell_type": "code",
   "execution_count": 11,
   "metadata": {
    "collapsed": false
   },
   "outputs": [
    {
     "name": "stdout",
     "output_type": "stream",
     "text": [
      "defaultdict(<type 'float'>, {('--EMISSION--', 'X', 'fish'): 1, ('--EMISSION--', 'N', 'fish'): 1, ('--EMISSION--', 'X', 'they'): 1, ('--EMISSION--', 'V', 'can'): 1, ('**OFFSET**', 'V'): 1, ('--EMISSION--', 'N', 'they'): 1, ('**OFFSET**', 'N'): 1, ('--EMISSION--', 'X', 'can'): 1, ('**OFFSET**', 'X'): 1})\n"
     ]
    }
   ],
   "source": [
    "test_weights = defaultdict(float)\n",
    "test_tags = ['N','V','V','N']\n",
    "for i in range(len(sent)):\n",
    "    for feat in wordFeatures(sent,test_tags[i],'X',i):\n",
    "        test_weights[feat] = 1\n",
    "    for feat in wordFeatures(sent,'X','X',i):\n",
    "        test_weights[feat] = 1\n",
    "print(test_weights)"
   ]
  },
  {
   "cell_type": "code",
   "execution_count": 12,
   "metadata": {
    "collapsed": true
   },
   "outputs": [],
   "source": [
    "# use this to find the highest-scoring label\n",
    "argmax = lambda x : max(iter(x.items()),key=operator.itemgetter(1))[0]"
   ]
  },
  {
   "cell_type": "markdown",
   "metadata": {},
   "source": [
    "**Deliverable 1b** (1 point): Complete the function classifierTagger in gtnlplib/tagger_base.py that takes a list of words, feature function, dict of weights, and a tagset, and outputs a list of predicted tags (one per word).\n",
    "\n",
    "You should use featfunc to get the features and return the list of tags with highest score for each word."
   ]
  },
  {
   "cell_type": "code",
   "execution_count": 13,
   "metadata": {
    "collapsed": false
   },
   "outputs": [
    {
     "data": {
      "text/plain": [
       "['N', 'V', 'V', 'N']"
      ]
     },
     "execution_count": 13,
     "metadata": {},
     "output_type": "execute_result"
    }
   ],
   "source": [
    "gtnlplib.tagger_base.classifierTagger(sent,wordFeatures,test_weights,alltags)"
   ]
  },
  {
   "cell_type": "code",
   "execution_count": 14,
   "metadata": {
    "collapsed": false
   },
   "outputs": [
    {
     "name": "stdout",
     "output_type": "stream",
     "text": [
      "0.139539705577\n"
     ]
    }
   ],
   "source": [
    "confusion = gtnlplib.tagger_base.evalTagger(lambda words,alltags : gtnlplib.tagger_base.classifierTagger(words,wordFeatures,test_weights,alltags),'test')\n",
    "print(gtnlplib.scorer.accuracy(confusion))"
   ]
  },
  {
   "cell_type": "markdown",
   "metadata": {
    "collapsed": true
   },
   "source": [
    "**Deliverable 1c** (3 points): Apply your averaged perceptron from pset 2 to do part-of-speech tagging. Start by adapting your oneItAvgPerceptron function. You'll have to make some changes:\n",
    "\n",
    "- Replace your call to the predict() function with a call to classifierTagger()\n",
    "- The instanceGenerator now produces word lists and tag lists as instances, instead of feature counts.\n",
    "- You can treat entire sentences as instances, if you want -- this may be slightly easier. This means that you only update the weights after seeing an entire sentence, sort of like a minibatch.\n",
    "- You'll want to add the feature function as an extra argument to both oneItAvgPerceptron and trainAvgPerceptron\n",
    "- return the training accuracy rather than the number of errors"
   ]
  },
  {
   "cell_type": "markdown",
   "metadata": {},
   "source": [
    "Complete oneItAvgPerceptron function from gtnlplib/avg_perceptron.py for this part."
   ]
  },
  {
   "cell_type": "code",
   "execution_count": 15,
   "metadata": {
    "collapsed": false
   },
   "outputs": [
    {
     "data": {
      "text/plain": [
       "<module 'gtnlplib.avg_perceptron' from 'gtnlplib/avg_perceptron.pyc'>"
      ]
     },
     "execution_count": 15,
     "metadata": {},
     "output_type": "execute_result"
    }
   ],
   "source": [
    "import importlib\n",
    "importlib.reload(gtnlplib.avg_perceptron)"
   ]
  },
  {
   "cell_type": "code",
   "execution_count": 16,
   "metadata": {
    "collapsed": false
   },
   "outputs": [],
   "source": [
    "weights,wsum,tr_acc,i = gtnlplib.avg_perceptron.oneItAvgPerceptron(tr_all,wordFeatures,defaultdict(float),defaultdict(float),alltags)"
   ]
  },
  {
   "cell_type": "code",
   "execution_count": 17,
   "metadata": {
    "collapsed": false
   },
   "outputs": [
    {
     "name": "stdout",
     "output_type": "stream",
     "text": [
      "16.0 2611.0\n",
      "-1.0 -212.0\n",
      "2.0 587.0\n",
      "5.0 942.0\n"
     ]
    }
   ],
   "source": [
    "#sanity check. The weight sum numbers might be different if you don't treat sentences as instances, which is what I do.\n",
    "print(weights[gtnlplib.constants.EMIT,'D','the'], wsum[gtnlplib.constants.EMIT,'D','the'])\n",
    "print(weights[gtnlplib.constants.EMIT,'N','the'], wsum[gtnlplib.constants.EMIT,'N','the'])\n",
    "print(weights[gtnlplib.constants.EMIT,'V','like'], wsum[gtnlplib.constants.EMIT,'V','like'])\n",
    "print(weights[gtnlplib.constants.EMIT,'P','like'], wsum[gtnlplib.constants.EMIT,'P','like'])"
   ]
  },
  {
   "cell_type": "markdown",
   "metadata": {},
   "source": [
    "**Deliverable 1d** (2 points): Now adapt trainAvgPerceptron function in gtnlplib/avg_perceptron.py to do tagging. This should require fewer changes than oneItAvgPerceptron, but you will have to:\n",
    "\n",
    "- take a feature function as an argument\n",
    "- call evalTagger instead of evalClassifier to get the confusion matrix\n",
    "- don't forget you've modified oneItAvgPerceptron to return the training set accuracy, not the number of errors"
   ]
  },
  {
   "cell_type": "code",
   "execution_count": 18,
   "metadata": {
    "collapsed": false
   },
   "outputs": [
    {
     "name": "stdout",
     "output_type": "stream",
     "text": [
      "0 dev: 0.673439767779 train: 0.523428415076\n",
      "1 dev: 0.710346257516 train: 0.685477802859\n",
      "2 dev: 0.729836201534 train: 0.764279362473\n",
      "3 dev: 0.736678415924 train: 0.824953827211\n",
      "4 dev: 0.742691270993 train: 0.853615158356\n",
      "5 dev: 0.746423387933 train: 0.879813940762\n",
      "6 dev: 0.746423387933 train: 0.89034817703\n",
      "7 dev: 0.746630727763 train: 0.899445926534\n",
      "8 dev: 0.747045407423 train: 0.903892195089\n",
      "9 dev: 0.747460087083 train: 0.904713044668\n"
     ]
    }
   ],
   "source": [
    "w, tr_acc, dv_acc =  gtnlplib.avg_perceptron.trainAvgPerceptron(10,tr_all,gtnlplib.features.wordCharFeatures,alltags)"
   ]
  },
  {
   "cell_type": "code",
   "execution_count": 19,
   "metadata": {
    "collapsed": false
   },
   "outputs": [
    {
     "data": {
      "text/plain": [
       "defaultdict(<type 'int'>, {('D', '^'): 2, ('#', 'R'): 1, (',', ','): 459, ('G', 'G'): 18, ('S', 'N'): 4, ('O', 'P'): 8, ('P', 'U'): 1, ('N', '@'): 6, ('&', 'R'): 1, ('N', 'R'): 8, ('G', 'P'): 1, ('V', '^'): 7, ('U', ','): 1, ('N', ','): 1, ('O', '^'): 2, ('A', 'N'): 58, ('N', 'A'): 4, ('A', 'P'): 1, ('D', 'G'): 1, ('^', ','): 1, ('V', 'N'): 67, ('O', 'O'): 304, ('~', '~'): 143, (',', '@'): 1, ('P', 'R'): 5, ('&', '&'): 87, ('D', 'L'): 3, ('E', ','): 3, ('$', 'U'): 10, ('A', '!'): 2, ('G', 'V'): 6, ('D', '!'): 3, ('^', '!'): 1, ('@', '^'): 14, ('A', '@'): 4, ('R', '^'): 2, ('L', 'V'): 5, ('A', 'R'): 11, ('L', 'D'): 2, ('#', '@'): 8, ('G', 'U'): 4, ('E', 'N'): 1, ('$', '@'): 5, ('P', 'A'): 3, ('$', '~'): 1, ('R', '&'): 1, ('N', '^'): 31, ('@', 'N'): 27, ('R', 'N'): 19, ('@', 'G'): 1, ('V', '!'): 1, ('$', 'A'): 1, ('G', '~'): 4, ('@', 'U'): 6, ('A', 'T'): 1, ('#', '^'): 5, ('$', 'P'): 5, ('^', 'D'): 2, ('#', 'U'): 3, ('T', 'N'): 1, ('E', 'V'): 2, ('$', 'N'): 3, ('P', 'V'): 4, ('G', 'O'): 4, ('N', 'N'): 508, ('P', 'D'): 1, ('O', '$'): 1, ('V', '~'): 4, ('R', 'P'): 13, ('@', 'E'): 2, ('V', 'U'): 6, ('@', 'R'): 1, ('!', '^'): 9, ('#', 'N'): 14, ('N', 'O'): 1, ('V', ','): 1, ('A', 'V'): 36, ('$', 'O'): 1, ('U', 'V'): 11, ('$', '^'): 6, ('$', '$'): 51, ('!', 'O'): 3, ('V', 'V'): 635, ('P', 'P'): 411, ('P', 'T'): 5, ('^', 'U'): 13, ('R', '@'): 2, ('V', 'E'): 1, ('^', 'G'): 4, ('X', 'R'): 2, ('R', 'R'): 142, ('!', 'N'): 19, ('A', 'O'): 2, ('@', 'P'): 1, ('~', ','): 27, ('^', 'V'): 40, ('R', 'A'): 17, ('D', 'V'): 1, ('U', 'P'): 1, ('^', '@'): 29, ('R', 'S'): 1, ('D', 'D'): 288, ('G', 'E'): 1, ('V', 'P'): 5, ('&', 'Z'): 1, ('E', 'E'): 34, ('!', ','): 2, ('O', '@'): 1, ('&', 'D'): 2, ('Z', 'N'): 6, ('U', '$'): 6, ('V', 'G'): 1, (',', '~'): 37, ('^', 'A'): 3, ('@', '@'): 153, ('R', 'T'): 2, ('!', '@'): 1, ('Z', 'V'): 3, ('A', 'A'): 112, ('@', 'V'): 29, ('!', 'R'): 2, ('L', 'N'): 8, ('U', '@'): 2, ('^', 'P'): 1, ('@', '$'): 5, ('N', '~'): 1, ('V', '@'): 16, ('E', 'U'): 3, ('V', 'R'): 2, ('N', '$'): 2, ('E', 'G'): 1, ('!', 'U'): 6, ('E', '$'): 2, ('G', 'N'): 10, ('U', '~'): 1, ('G', '^'): 3, ('R', 'D'): 2, ('G', '@'): 1, ('X', 'X'): 1, ('V', 'A'): 5, ('N', '&'): 1, ('$', '!'): 1, ('#', '#'): 5, ('R', 'V'): 6, ('L', '^'): 3, (',', 'E'): 2, ('T', 'O'): 1, ('!', '!'): 52, ('T', 'T'): 29, ('A', 'U'): 3, ('N', 'U'): 6, ('^', 'R'): 7, ('U', 'U'): 39, ('D', 'R'): 1, ('#', 'V'): 15, ('D', '@'): 2, ('E', '^'): 2, ('S', '@'): 1, ('P', 'N'): 7, ('O', 'N'): 4, ('N', 'V'): 73, ('O', 'D'): 12, ('@', 'O'): 2, (',', 'G'): 1, ('#', '!'): 1, ('!', 'D'): 2, ('N', 'E'): 5, ('L', 'U'): 1, ('U', 'E'): 1, ('!', 'V'): 3, ('T', 'R'): 1, ('D', 'P'): 4, ('U', '^'): 13, ('^', '$'): 2, ('N', '!'): 4, ('^', 'N'): 118, ('P', '^'): 1, ('R', '!'): 2, ('D', 'N'): 7, ('X', 'O'): 1, ('O', 'V'): 1, ('E', '~'): 4, ('N', 'P'): 5, ('G', 'R'): 1, ('P', '$'): 2, ('^', 'O'): 2, ('@', 'Z'): 2, ('N', 'G'): 4, ('A', '$'): 1, ('U', 'G'): 2, ('A', '^'): 8, ('L', 'L'): 46, ('T', 'P'): 4, ('U', 'N'): 14, ('$', 'V'): 2, ('^', '^'): 88, ('G', ','): 12})"
      ]
     },
     "execution_count": 19,
     "metadata": {},
     "output_type": "execute_result"
    }
   ],
   "source": [
    "#You will get the test file later (48 hours before the deadline)\n",
    "gtnlplib.tagger_base.evalTagger(lambda words,alltags : gtnlplib.tagger_base.classifierTagger(words,gtnlplib.features.wordCharFeatures,w,alltags),'avg_perceptron.response',testfile=devfile)"
   ]
  },
  {
   "cell_type": "markdown",
   "metadata": {},
   "source": [
    "**Deliverable 1e** (3 points): Make it better! Design a killer feature set that improves performance on the devset.\n",
    "\n",
    "I'm able to get above 84% on the dev set, without going too crazy. Warning: my additional features slow things down considerably.\n",
    "\n",
    "\n",
    "Please complete yourFeatures function from gtnlplib/features.py for this.\n",
    "In order to pass unit tests for this you should be able to get at least 81%."
   ]
  },
  {
   "cell_type": "code",
   "execution_count": 20,
   "metadata": {
    "collapsed": false
   },
   "outputs": [
    {
     "data": {
      "text/plain": [
       "<module 'gtnlplib.features' from 'gtnlplib/features.pyc'>"
      ]
     },
     "execution_count": 20,
     "metadata": {},
     "output_type": "execute_result"
    }
   ],
   "source": [
    "import importlib\n",
    "importlib.reload(gtnlplib.features)"
   ]
  },
  {
   "cell_type": "code",
   "execution_count": 21,
   "metadata": {
    "collapsed": false
   },
   "outputs": [
    {
     "name": "stdout",
     "output_type": "stream",
     "text": [
      "0 dev: 0.809869375907 train: 0.689103221835\n",
      "1 dev: 0.827078581796 train: 0.85169984267\n",
      "2 dev: 0.835994194485 train: 0.908064847117\n",
      "3 dev: 0.840970350404 train: 0.933511184076\n",
      "4 dev: 0.842421729214 train: 0.949654559135\n",
      "5 dev: 0.844287787684 train: 0.957042205349\n",
      "6 dev: 0.843665768194 train: 0.963403789589\n",
      "7 dev: 0.843043748704 train: 0.971749093645\n",
      "8 dev: 0.842836408874 train: 0.977768657227\n",
      "9 dev: 0.844495127514 train: 0.982283329913\n",
      "10 dev: 0.845324486834 train: 0.982625350571\n",
      "11 dev: 0.845117147004 train: 0.982214925782\n",
      "12 dev: 0.845117147004 train: 0.986592790205\n",
      "13 dev: 0.844287787684 train: 0.989739380259\n",
      "14 dev: 0.844702467344 train: 0.989397359601\n"
     ]
    }
   ],
   "source": [
    "w, tr_acc, dv_acc = gtnlplib.avg_perceptron.trainAvgPerceptron(15,tr_all,gtnlplib.features.yourFeatures,alltags)"
   ]
  },
  {
   "cell_type": "code",
   "execution_count": 23,
   "metadata": {
    "collapsed": false
   },
   "outputs": [
    {
     "data": {
      "text/plain": [
       "defaultdict(<type 'int'>, {('D', '^'): 6, (',', ','): 473, ('N', '#'): 4, ('G', 'G'): 22, ('S', 'N'): 2, ('O', 'P'): 4, ('N', '@'): 1, ('N', 'R'): 9, ('G', 'P'): 1, ('V', '^'): 14, ('U', ','): 1, ('O', '^'): 1, ('A', 'N'): 28, ('N', 'A'): 20, ('A', 'P'): 1, ('D', 'G'): 1, ('^', ','): 1, ('V', 'N'): 44, ('N', 'S'): 1, ('O', 'O'): 316, ('~', '~'): 157, ('G', 'E'): 3, ('P', 'R'): 4, ('&', '&'): 86, ('D', 'L'): 2, ('E', ','): 4, ('A', '!'): 3, ('G', 'V'): 5, ('D', '!'): 2, ('Z', '^'): 1, ('^', '!'): 4, ('U', '~'): 1, ('R', '^'): 3, ('L', 'V'): 1, ('A', 'R'): 4, ('L', 'D'): 3, ('$', 'R'): 2, ('^', 'Z'): 2, ('S', 'S'): 1, ('P', 'P'): 413, ('N', 'L'): 1, ('&', 'N'): 1, ('&', 'D'): 3, ('Z', 'N'): 3, ('O', '&'): 1, ('N', '^'): 34, ('V', '#'): 2, ('R', 'N'): 10, ('^', '#'): 5, ('A', 'T'): 1, ('#', '^'): 6, ('$', 'P'): 2, ('^', 'D'): 3, ('S', 'Z'): 2, ('D', 'X'): 1, ('$', 'N'): 6, ('P', 'V'): 1, ('G', 'O'): 1, ('P', 'O'): 1, ('N', 'N'): 522, ('P', 'D'): 4, ('^', 'E'): 1, ('G', '~'): 2, ('R', 'P'): 7, ('G', 'A'): 2, ('$', 'O'): 1, ('A', 'D'): 2, ('!', '^'): 8, ('#', 'N'): 3, ('N', 'O'): 3, (',', '^'): 1, ('A', 'V'): 25, ('$', '^'): 8, ('$', '$'): 64, ('!', 'O'): 1, ('V', 'V'): 664, ('D', 'O'): 3, ('P', 'T'): 6, ('$', '#'): 2, ('^', 'G'): 2, ('X', 'R'): 2, ('R', 'R'): 157, ('!', 'N'): 12, ('~', ','): 13, ('^', 'V'): 7, ('R', 'A'): 21, ('D', 'V'): 2, ('O', 'R'): 1, ('L', 'L'): 59, ('R', 'S'): 1, ('!', 'A'): 3, ('D', 'D'): 288, ('V', 'P'): 5, ('E', 'E'): 39, ('!', ','): 2, ('N', '~'): 2, ('U', 'P'): 1, ('N', '$'): 2, ('^', 'A'): 18, ('@', '@'): 243, ('R', 'T'): 1, ('A', 'A'): 158, ('T', 'A'): 2, ('!', 'R'): 1, ('^', 'P'): 1, ('V', '&'): 1, ('V', 'R'): 3, (',', '~'): 23, ('G', '#'): 2, ('G', 'N'): 4, ('E', '$'): 2, ('O', 'V'): 1, ('P', 'A'): 1, ('G', '^'): 6, ('R', 'D'): 2, ('V', 'A'): 8, ('N', '&'): 1, ('G', 'L'): 1, ('#', '#'): 41, ('R', 'V'): 5, (',', 'E'): 1, (',', '!'): 1, ('T', 'O'): 1, ('!', '!'): 68, ('T', 'T'): 32, ('^', 'R'): 4, ('N', 'Z'): 2, ('U', 'U'): 86, ('D', 'R'): 5, ('#', 'V'): 1, ('E', '^'): 4, ('N', 'D'): 1, ('&', 'V'): 1, ('P', 'N'): 7, ('O', 'N'): 3, ('N', 'V'): 42, ('O', 'D'): 6, ('#', '!'): 1, ('!', 'D'): 1, ('N', 'E'): 1, ('!', 'V'): 3, (',', 'V'): 1, ('D', 'P'): 1, ('^', '$'): 2, ('N', '!'): 7, ('^', 'N'): 80, ('X', 'X'): 1, ('D', 'N'): 1, ('X', 'O'): 1, ('N', 'P'): 4, ('T', 'P'): 1, ('P', 'L'): 2, ('U', 'N'): 2, ('V', '~'): 6, ('G', 'R'): 2, ('P', '$'): 1, ('Z', 'Z'): 5, ('^', 'O'): 2, ('L', 'Z'): 1, ('N', 'G'): 3, ('G', '!'): 2, ('A', '$'): 2, ('L', 'A'): 1, ('A', '^'): 15, ('R', '!'): 2, ('V', '!'): 4, ('E', '~'): 3, ('$', 'V'): 1, ('^', '^'): 179, ('G', ','): 12})"
      ]
     },
     "execution_count": 23,
     "metadata": {},
     "output_type": "execute_result"
    }
   ],
   "source": [
    "gtnlplib.tagger_base.evalTagger(lambda words,alltags : gtnlplib.tagger_base.classifierTagger(words,gtnlplib.features.yourFeatures,w,alltags),'avg_perceptron_custom.response',testfile=devfile)"
   ]
  },
  {
   "cell_type": "markdown",
   "metadata": {},
   "source": [
    "# 2. Discriminative Structure Prediction #\n",
    "\n",
    "Now you will implement a Structured Perceptron, which is trained to find the optimal *sequence* $\\vec{y} = \\text{arg}\\max_\\vec{y} \\theta^{\\top} \\vec{f}(\\vec{w},\\vec{y})$"
   ]
  },
  {
   "cell_type": "markdown",
   "metadata": {},
   "source": [
    "A key difference from the classification-based setting is that we compute features over the entire sequence.\n",
    "\n",
    "**Deliverable 2a** (1 point): Implement a function seqFeatures in gtnlplib/features.py , which takes a list of words, a list of tags, and a feature function, and returns a dictionary of features and their counts."
   ]
  },
  {
   "cell_type": "code",
   "execution_count": 24,
   "metadata": {
    "collapsed": false
   },
   "outputs": [
    {
     "data": {
      "text/plain": [
       "<module 'gtnlplib.features' from 'gtnlplib/features.pyc'>"
      ]
     },
     "execution_count": 24,
     "metadata": {},
     "output_type": "execute_result"
    }
   ],
   "source": [
    "import importlib\n",
    "importlib.reload(gtnlplib.features)"
   ]
  },
  {
   "cell_type": "code",
   "execution_count": 25,
   "metadata": {
    "collapsed": false
   },
   "outputs": [
    {
     "data": {
      "text/plain": [
       "defaultdict(<type 'float'>, {('--EMISSION--', 'N', 'fish'): 1.0, ('--EMISSION--', 'V', 'can'): 2.0, ('**OFFSET**', 'V'): 2.0, ('--EMISSION--', 'N', 'they'): 1.0, ('**OFFSET**', 'N'): 2.0, ('**OFFSET**', '--END--'): 1.0})"
      ]
     },
     "execution_count": 25,
     "metadata": {},
     "output_type": "execute_result"
    }
   ],
   "source": [
    "gtnlplib.features.seqFeatures(sent,['N','V','V','N'],wordFeatures)"
   ]
  },
  {
   "cell_type": "markdown",
   "metadata": {},
   "source": [
    "**Deliverable 2b** (1 point): now complete the function wordTransFeatures in gtnlplib/features.py, which adds tag-to-tag transition features to wordFeatures. Note that this feature set is identical to what the HMM uses."
   ]
  },
  {
   "cell_type": "code",
   "execution_count": 26,
   "metadata": {
    "collapsed": false
   },
   "outputs": [
    {
     "data": {
      "text/plain": [
       "defaultdict(<type 'float'>, {('--TRANS--', 'N', '--START--'): 1.0, ('--TRANS--', '--END--', 'N'): 1.0, ('--EMISSION--', 'N', 'fish'): 1.0, ('--EMISSION--', 'V', 'can'): 2.0, ('**OFFSET**', 'V'): 2.0, ('--EMISSION--', 'N', 'they'): 1.0, ('--TRANS--', 'V', 'V'): 1.0, ('--TRANS--', 'N', 'V'): 1.0, ('**OFFSET**', 'N'): 2.0, ('--TRANS--', 'V', 'N'): 1.0, ('**OFFSET**', '--END--'): 1.0})"
      ]
     },
     "execution_count": 26,
     "metadata": {},
     "output_type": "execute_result"
    }
   ],
   "source": [
    "gtnlplib.features.seqFeatures(sent,['N','V','V','N'],gtnlplib.features.wordTransFeatures)"
   ]
  },
  {
   "cell_type": "markdown",
   "metadata": {},
   "source": [
    "**Deliverable 2c** (1 point): copy in your viterbiTagger from problem set 3. If you implemented it correctly, you should be able to use it without modification here."
   ]
  },
  {
   "cell_type": "code",
   "execution_count": 27,
   "metadata": {
    "collapsed": false
   },
   "outputs": [
    {
     "data": {
      "text/plain": [
       "<module 'gtnlplib.viterbi' from 'gtnlplib/viterbi.pyc'>"
      ]
     },
     "execution_count": 27,
     "metadata": {},
     "output_type": "execute_result"
    }
   ],
   "source": [
    "import importlib\n",
    "importlib.reload(gtnlplib.viterbi)"
   ]
  },
  {
   "cell_type": "code",
   "execution_count": 28,
   "metadata": {
    "collapsed": false
   },
   "outputs": [
    {
     "data": {
      "text/plain": [
       "(['N', 'V', 'V', 'N'], 8.0)"
      ]
     },
     "execution_count": 28,
     "metadata": {},
     "output_type": "execute_result"
    }
   ],
   "source": [
    "gtnlplib.viterbi.viterbiTagger(['they','can','can','fish'],gtnlplib.features.wordTransFeatures,test_weights,alltags)"
   ]
  },
  {
   "cell_type": "markdown",
   "metadata": {},
   "source": [
    "**Deliverable 2d** (3 points): Complete the function oneItAvgStructPerceptron in gtnlplib/str_perceptron.py, which performs a single iteration of averaged structured perceptron. It should be similar to your oneItAvgPerceptron, but will have to be different in some ways to reflect the structured prediction scenario.\n",
    "\n",
    "- To make predictions, you must call your viterbiTagger function\n",
    "- To compute the features for a given sequence of words and tags, you must call your seqFeatures function\n",
    "- As above, output the training accuracy, not the number of training errors"
   ]
  },
  {
   "cell_type": "code",
   "execution_count": 29,
   "metadata": {
    "collapsed": false
   },
   "outputs": [
    {
     "data": {
      "text/plain": [
       "<module 'gtnlplib.str_perceptron' from 'gtnlplib/str_perceptron.pyc'>"
      ]
     },
     "execution_count": 29,
     "metadata": {},
     "output_type": "execute_result"
    }
   ],
   "source": [
    "import importlib\n",
    "importlib.reload(gtnlplib.str_perceptron)"
   ]
  },
  {
   "cell_type": "markdown",
   "metadata": {},
   "source": [
    "Speed is important here. Use this line to benchmark your code.\n",
    "- My \"optimized\" implementation takes 1.1 seconds per iteration. \n",
    "- My \"less optimized\" implementation takes 1.6 seconds per iteration."
   ]
  },
  {
   "cell_type": "code",
   "execution_count": 30,
   "metadata": {
    "collapsed": false
   },
   "outputs": [
    {
     "name": "stdout",
     "output_type": "stream",
     "text": [
      "1 loops, best of 3: 1.11 s per loop\n"
     ]
    }
   ],
   "source": [
    "%%timeit\n",
    "weights,wsum,tr_acc,i = gtnlplib.str_perceptron.oneItAvgStructPerceptron(tr_all[:100],\n",
    "                                                                         gtnlplib.features.wordTransFeatures,\n",
    "                                                                         defaultdict(float),\n",
    "                                                                         defaultdict(float),\n",
    "                                                                         alltags)\n",
    "# careful, the %%timeit magic means that this block doesn't change the notebook state "
   ]
  },
  {
   "cell_type": "code",
   "execution_count": 31,
   "metadata": {
    "collapsed": true
   },
   "outputs": [],
   "source": [
    "weights,wsum,tr_acc,i = gtnlplib.str_perceptron.oneItAvgStructPerceptron(tr_all[:100],gtnlplib.features.wordTransFeatures,defaultdict(float),defaultdict(float),alltags)"
   ]
  },
  {
   "cell_type": "code",
   "execution_count": 32,
   "metadata": {
    "collapsed": false
   },
   "outputs": [
    {
     "name": "stdout",
     "output_type": "stream",
     "text": [
      "! ! -29.0 18.0\n",
      "! , 2.0 -49.0\n",
      "! @ 5.0 -75.0\n",
      "# # -3.0 -130.0\n",
      "# , -3.0 -329.0\n",
      "$ $ -14.0 -194.0\n",
      "$ , 1.0 -164.0\n",
      "& @ 2.0 127.0\n",
      ", ! 3.0 -196.0\n",
      ", # -4.0 -393.0\n",
      ", $ 3.0 68.0\n",
      ", & -3.0 -150.0\n",
      ", , -1.0 -43.0\n",
      ", A 3.0 158.0\n",
      ", @ 1.0 43.0\n",
      "A ! 2.0 108.0\n",
      "A , -1.0 -36.0\n",
      "A A -11.0 -400.0\n",
      "A @ -1.0 -33.0\n",
      "@ ! 1.0 95.0\n",
      "@ & 1.0 45.0\n",
      "@ @ -9.0 -412.0\n"
     ]
    }
   ],
   "source": [
    "for tag1 in list(alltags)[:7]:\n",
    "    for tag2 in list(alltags)[:7]:\n",
    "        if weights[gtnlplib.constants.TRANS,tag1,tag2] != 0:\n",
    "            print(tag1,tag2,weights[(gtnlplib.constants.TRANS,tag1,tag2)],wsum[gtnlplib.constants.TRANS,tag1,tag2])"
   ]
  },
  {
   "cell_type": "markdown",
   "metadata": {},
   "source": [
    "**Deliverable 2e** (2 points): Implement trainAvgStructPerceptron in gtnlplib/str_perceptron.py. This will be quite similar to your trainAvgPerceptron from ps2, but will have to take slightly different arguments to handle the structured prediction case. Don't forget to use evalTagger to produce output."
   ]
  },
  {
   "cell_type": "code",
   "execution_count": 35,
   "metadata": {
    "collapsed": false
   },
   "outputs": [
    {
     "name": "stdout",
     "output_type": "stream",
     "text": [
      "0 dev: 0.373833713456 train: 0.207874015748\n",
      "1 dev: 0.428778768401 train: 0.363779527559\n",
      "2 dev: 0.472527472527 train: 0.587401574803\n",
      "3 dev: 0.494920174165 train: 0.749606299213\n",
      "4 dev: 0.513580758864 train: 0.763779527559\n"
     ]
    }
   ],
   "source": [
    "# your code should roughly reproduce this sanity check. It may be a little slow, so we'll just test on the first 50 instances.\n",
    "# While you're debugging your code, you can run on even smaller datasets.\n",
    "theta,tr_acc,dv_acc = gtnlplib.str_perceptron.trainAvgStructPerceptron(5,tr_all[:50],gtnlplib.features.wordTransFeatures,alltags)"
   ]
  },
  {
   "cell_type": "code",
   "execution_count": 36,
   "metadata": {
    "collapsed": false
   },
   "outputs": [
    {
     "name": "stdout",
     "output_type": "stream",
     "text": [
      "0 dev: 0.66369479577 train: 0.488542307955\n",
      "1 dev: 0.699979266017 train: 0.665366988166\n",
      "2 dev: 0.717395811735 train: 0.742253232095\n",
      "3 dev: 0.730250881194 train: 0.806484711677\n",
      "4 dev: 0.741861911673 train: 0.849716122854\n",
      "5 dev: 0.744764669293 train: 0.874820439155\n",
      "6 dev: 0.748496786233 train: 0.893015938163\n",
      "7 dev: 0.750155504872 train: 0.905055065326\n",
      "8 dev: 0.752850922662 train: 0.914700047883\n",
      "9 dev: 0.754924320962 train: 0.920445994938\n"
     ]
    }
   ],
   "source": [
    "theta,tr_acc,dv_acc = gtnlplib.str_perceptron.trainAvgStructPerceptron(10,tr_all,gtnlplib.features.wordTransFeatures,alltags)"
   ]
  },
  {
   "cell_type": "code",
   "execution_count": 37,
   "metadata": {
    "collapsed": false
   },
   "outputs": [],
   "source": [
    "confusion = gtnlplib.tagger_base.evalTagger(lambda words, alltags : gtnlplib.viterbi.viterbiTagger(words,gtnlplib.features.wordTransFeatures,theta,alltags)[0],'str_avg_perceptron.response',testfile=devfile)"
   ]
  },
  {
   "cell_type": "markdown",
   "metadata": {},
   "source": [
    "**Deliverable 2f** (3 points): Implement a better feature set for structured prediction by completing yourHMMFeatures function in gtnlplib/features.py. For speed reasons, you might not want to use all the features you used in 4e, but try to get as good an accuracy as you can. Last year I was able to get my structured perceptron to work a little better than my best classifier, but this year my classifier is (very slightly) better!"
   ]
  },
  {
   "cell_type": "code",
   "execution_count": 34,
   "metadata": {
    "collapsed": false
   },
   "outputs": [
    {
     "data": {
      "text/plain": [
       "<module 'gtnlplib.features' from 'gtnlplib/features.pyc'>"
      ]
     },
     "execution_count": 34,
     "metadata": {},
     "output_type": "execute_result"
    }
   ],
   "source": [
    "import importlib\n",
    "importlib.reload(gtnlplib.features)"
   ]
  },
  {
   "cell_type": "code",
   "execution_count": 35,
   "metadata": {
    "collapsed": false
   },
   "outputs": [
    {
     "name": "stdout",
     "output_type": "stream",
     "text": [
      "0 dev: 0.754509641302 train: 0.658800191532\n",
      "1 dev: 0.789135392909 train: 0.813598741364\n",
      "2 dev: 0.822309765706 train: 0.88268691429\n",
      "3 dev: 0.77814638192 train: 0.913126752856\n",
      "4 dev: 0.799502384408 train: 0.935289691497\n",
      "5 dev: 0.832676757205 train: 0.944866269923\n",
      "6 dev: 0.833713456355 train: 0.956905397086\n",
      "7 dev: 0.833920796185 train: 0.9655927218\n",
      "8 dev: 0.831225378395 train: 0.974280046515\n",
      "9 dev: 0.831847397885 train: 0.973322388672\n"
     ]
    }
   ],
   "source": [
    "theta,tr_acc,dv_acc = gtnlplib.str_perceptron.trainAvgStructPerceptron(10,tr_all,gtnlplib.features.yourHMMFeatures,alltags)"
   ]
  },
  {
   "cell_type": "code",
   "execution_count": null,
   "metadata": {},
   "outputs": [],
   "source": [
    "from gtnlplib import scorer"
   ]
  },
  {
   "cell_type": "code",
   "execution_count": 36,
   "metadata": {
    "collapsed": false
   },
   "outputs": [
    {
     "name": "stdout",
     "output_type": "stream",
     "text": [
      "0.841023489933\n"
     ]
    }
   ],
   "source": [
    "confusion = gtnlplib.tagger_base.evalTagger(lambda words, alltags : gtnlplib.viterbi.viterbiTagger(words,gtnlplib.features.yourHMMFeatures,theta,alltags)[0],'str_avg_perceptron_custom.response',testfile=devfile)\n",
    "print(scorer.accuracy(confusion))"
   ]
  },
  {
   "cell_type": "markdown",
   "metadata": {},
   "source": [
    "# 3. Error analysis #\n",
    "\n",
    "(3 points; 7650 only). The scorer.py script produces a confusion matrix, which shows the most common types of errors. Consider your best tagger in any part of the assignment, and identify the three most frequent errors (e.g., N classified as V). Find an example sentence in your tagger has made each type of error, and explain why you think it made the mistake, and how it could be fixed. (If you are feeling competitive, you can then use this information to go back and try to improve your features.)"
   ]
  },
  {
   "cell_type": "markdown",
   "metadata": {},
   "source": [
    "# 4. Bakeoff! #\n",
    "\n",
    "48 hours before the assignment is due, we will send you unlabeled test data. Your job is to produce a response file that I can evaluate. I'll present the results in class and give the best scorers a chance to explain what they did.\n",
    "\n",
    "\n",
    "** Deliverable 4 ** (3 points) Run your best system from any part of the\n",
    "assignment on the test data using the `generateKaggleSubmission()` function. Submit\n",
    "your response file to the class [Kaggle bakeoff](https://inclass.kaggle.com/c/gt-book-review-sentiment-analysis). Also **submit your Kaggle response file to T-Square as 'lastname-firstname.response'.** The top\n",
    "scores will be announced in class.\n"
   ]
  },
  {
   "cell_type": "code",
   "execution_count": null,
   "metadata": {
    "collapsed": true
   },
   "outputs": [],
   "source": [
    "confusion = gtnlplib.tagger_base.evalTagger(lambda words, alltags : gtnlplib.viterbi.viterbiTagger(words,gtnlplib.features.yourHMMFeatures,theta,alltags)[0],'lastname-firstname.response',testfile=devfile)"
   ]
  }
 ],
 "metadata": {
  "kernelspec": {
   "display_name": "Python 3.9.12 ('cs490bh')",
   "language": "python",
   "name": "python3"
  },
  "language_info": {
   "codemirror_mode": {
    "name": "ipython",
    "version": 3
   },
   "file_extension": ".py",
   "mimetype": "text/x-python",
   "name": "python",
   "nbconvert_exporter": "python",
   "pygments_lexer": "ipython3",
   "version": "3.9.12"
  },
  "vscode": {
   "interpreter": {
    "hash": "83b68145e0239178a9c54713d6fa9b9ba3ecef597e2ff092c19d84f450e9bf60"
   }
  }
 },
 "nbformat": 4,
 "nbformat_minor": 0
}
